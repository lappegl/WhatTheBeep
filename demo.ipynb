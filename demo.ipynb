{
 "cells": [
  {
   "cell_type": "markdown",
   "id": "b52fccfd-9462-499b-b14b-9baa5b92664a",
   "metadata": {},
   "source": [
    "# WhatTheBeep Demo"
   ]
  },
  {
   "cell_type": "code",
   "execution_count": 1,
   "id": "b4178089-cbfb-4483-802c-2597c5a01597",
   "metadata": {},
   "outputs": [],
   "source": [
    "import censor\n",
    "from IPython.display import Video"
   ]
  },
  {
   "cell_type": "code",
   "execution_count": 2,
   "id": "3b1298fb-7d3b-4ab0-94f7-c608c59d928d",
   "metadata": {},
   "outputs": [],
   "source": [
    "file = 'demo/demo.mp4'"
   ]
  },
  {
   "cell_type": "code",
   "execution_count": 3,
   "id": "f02e6742-960a-4bea-92ca-f67629ba5a56",
   "metadata": {},
   "outputs": [
    {
     "data": {
      "text/html": [
       "<video src=\"demo/demo.mp4\" controls  >\n",
       "      Your browser does not support the <code>video</code> element.\n",
       "    </video>"
      ],
      "text/plain": [
       "<IPython.core.display.Video object>"
      ]
     },
     "execution_count": 3,
     "metadata": {},
     "output_type": "execute_result"
    }
   ],
   "source": [
    "Video(file)"
   ]
  },
  {
   "cell_type": "code",
   "execution_count": 4,
   "id": "5653bebb-d9c1-4a52-93dd-197de61b2e4c",
   "metadata": {},
   "outputs": [
    {
     "data": {
      "text/plain": [
       "[]"
      ]
     },
     "execution_count": 4,
     "metadata": {},
     "output_type": "execute_result"
    }
   ],
   "source": [
    "censor.CENSOR_WORDS"
   ]
  },
  {
   "cell_type": "code",
   "execution_count": 5,
   "id": "9647b475-1936-422a-aa46-64d61ba2db0e",
   "metadata": {},
   "outputs": [],
   "source": [
    "# define here or edit flag_words.txt directly. Do not use quotes in the .txt file, just enter each word, 1 per line.\n",
    "censor.CENSOR_WORDS = [\n",
    "    \"desperation\",\n",
    "    \"been\",\n",
    "    \"world\",\n",
    "    \"run\",\n",
    "    \"away\"\n",
    "]"
   ]
  },
  {
   "cell_type": "code",
   "execution_count": null,
   "id": "8287a4e4-5d0e-4e99-8cc2-d2f58b25fedc",
   "metadata": {},
   "outputs": [],
   "source": []
  },
  {
   "cell_type": "code",
   "execution_count": 6,
   "id": "46f59650-d7db-4ec2-a22c-3cb292230962",
   "metadata": {},
   "outputs": [
    {
     "name": "stdout",
     "output_type": "stream",
     "text": [
      "Extracting audio from file: C:\\Users\\Garrett\\PycharmProjects\\WhatTheBeep\\demo\\demo.mp4\n",
      "Transcribing audio...\n",
      "Transcribing finished in 0:00:10.082971\n",
      "Overlaying\n",
      "\tVideo: demo/demo.mp4\n",
      "\tAudio: C:\\Users\\Garrett\\PycharmProjects\\WhatTheBeep\\demo\\demo_censored.wav\n",
      "Saving overlaid video:\n",
      "\tdemo/demo_overlaid.mp4\n",
      "Moviepy - Building video demo/demo_overlaid.mp4.\n",
      "MoviePy - Writing audio in demo_overlaidTEMP_MPY_wvf_snd.mp3\n"
     ]
    },
    {
     "name": "stderr",
     "output_type": "stream",
     "text": [
      "                                                                                                                                                                                                                                       \r"
     ]
    },
    {
     "name": "stdout",
     "output_type": "stream",
     "text": [
      "MoviePy - Done.\n",
      "Moviepy - Writing video demo/demo_overlaid.mp4\n",
      "\n"
     ]
    },
    {
     "name": "stderr",
     "output_type": "stream",
     "text": [
      "                                                                                                                                                                                                                                       \r"
     ]
    },
    {
     "name": "stdout",
     "output_type": "stream",
     "text": [
      "Moviepy - Done !\n",
      "Moviepy - video ready demo/demo_overlaid.mp4\n"
     ]
    }
   ],
   "source": [
    "censored_video_file = censor.censor_video(file)"
   ]
  },
  {
   "cell_type": "code",
   "execution_count": 7,
   "id": "c3497d21-86cb-4044-8719-019eca3045c3",
   "metadata": {},
   "outputs": [
    {
     "data": {
      "text/html": [
       "<video src=\"demo/demo_overlaid.mp4\" controls  >\n",
       "      Your browser does not support the <code>video</code> element.\n",
       "    </video>"
      ],
      "text/plain": [
       "<IPython.core.display.Video object>"
      ]
     },
     "execution_count": 7,
     "metadata": {},
     "output_type": "execute_result"
    }
   ],
   "source": [
    "Video(censored_video_file)"
   ]
  },
  {
   "cell_type": "code",
   "execution_count": null,
   "id": "5f0167b3-67e3-4b6d-bd9e-c3a71539958d",
   "metadata": {},
   "outputs": [],
   "source": []
  }
 ],
 "metadata": {
  "kernelspec": {
   "display_name": "Python 3 (ipykernel)",
   "language": "python",
   "name": "python3"
  },
  "language_info": {
   "codemirror_mode": {
    "name": "ipython",
    "version": 3
   },
   "file_extension": ".py",
   "mimetype": "text/x-python",
   "name": "python",
   "nbconvert_exporter": "python",
   "pygments_lexer": "ipython3",
   "version": "3.11.3"
  }
 },
 "nbformat": 4,
 "nbformat_minor": 5
}